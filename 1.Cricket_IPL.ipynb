{
 "cells": [
  {
   "cell_type": "markdown",
   "metadata": {
    "id": "5ca58022"
   },
   "source": [
    "# Task\n",
    "Analyze cricket player performance data to identify the most consistent players across seasons based on batting and bowling statistics such as strike rate, average, and economy rate."
   ]
  },
  {
   "cell_type": "markdown",
   "metadata": {
    "id": "7a779c02"
   },
   "source": [
    "## Data loading\n",
    "\n",
    "### Subtask:\n",
    "Load the cricket player performance data.\n"
   ]
  },
  {
   "cell_type": "markdown",
   "metadata": {
    "id": "b4657b21"
   },
   "source": [
    "**Reasoning**:\n",
    "Import pandas and load the data into a DataFrame, then display the first 5 rows.\n",
    "\n"
   ]
  },
  {
   "cell_type": "code",
   "execution_count": 14,
   "metadata": {
    "colab": {
     "base_uri": "https://localhost:8080/",
     "height": 481
    },
    "executionInfo": {
     "elapsed": 2566,
     "status": "ok",
     "timestamp": 1751890648602,
     "user": {
      "displayName": "Venu Gopal Reddy",
      "userId": "15021246577011012975"
     },
     "user_tz": -330
    },
    "id": "13ae17c0",
    "outputId": "ec90a9d4-1299-4fac-f934-4edac368751a"
   },
   "outputs": [
    {
     "name": "stderr",
     "output_type": "stream",
     "text": [
      "C:\\Users\\pvgre\\AppData\\Local\\Temp\\ipykernel_12412\\819950863.py:3: DtypeWarning: Columns (28,29,30,31,43,46,47,48,51) have mixed types. Specify dtype option on import or set low_memory=False.\n",
      "  df = pd.read_csv('IPL.csv')\n"
     ]
    },
    {
     "data": {
      "text/html": [
       "<div>\n",
       "<style scoped>\n",
       "    .dataframe tbody tr th:only-of-type {\n",
       "        vertical-align: middle;\n",
       "    }\n",
       "\n",
       "    .dataframe tbody tr th {\n",
       "        vertical-align: top;\n",
       "    }\n",
       "\n",
       "    .dataframe thead th {\n",
       "        text-align: right;\n",
       "    }\n",
       "</style>\n",
       "<table border=\"1\" class=\"dataframe\">\n",
       "  <thead>\n",
       "    <tr style=\"text-align: right;\">\n",
       "      <th></th>\n",
       "      <th>Unnamed: 0</th>\n",
       "      <th>match_id</th>\n",
       "      <th>date</th>\n",
       "      <th>match_type</th>\n",
       "      <th>event_name</th>\n",
       "      <th>innings</th>\n",
       "      <th>batting_team</th>\n",
       "      <th>bowling_team</th>\n",
       "      <th>over</th>\n",
       "      <th>ball</th>\n",
       "      <th>...</th>\n",
       "      <th>team_runs</th>\n",
       "      <th>team_balls</th>\n",
       "      <th>team_wicket</th>\n",
       "      <th>new_batter</th>\n",
       "      <th>batter_runs</th>\n",
       "      <th>batter_balls</th>\n",
       "      <th>bowler_wicket</th>\n",
       "      <th>batting_partners</th>\n",
       "      <th>next_batter</th>\n",
       "      <th>striker_out</th>\n",
       "    </tr>\n",
       "  </thead>\n",
       "  <tbody>\n",
       "    <tr>\n",
       "      <th>0</th>\n",
       "      <td>131970</td>\n",
       "      <td>335982</td>\n",
       "      <td>2008-04-18</td>\n",
       "      <td>T20</td>\n",
       "      <td>Indian Premier League</td>\n",
       "      <td>1</td>\n",
       "      <td>Kolkata Knight Riders</td>\n",
       "      <td>Royal Challengers Bangalore</td>\n",
       "      <td>0</td>\n",
       "      <td>1</td>\n",
       "      <td>...</td>\n",
       "      <td>1</td>\n",
       "      <td>1</td>\n",
       "      <td>0</td>\n",
       "      <td>NaN</td>\n",
       "      <td>0</td>\n",
       "      <td>1</td>\n",
       "      <td>0</td>\n",
       "      <td>('BB McCullum', 'SC Ganguly')</td>\n",
       "      <td>NaN</td>\n",
       "      <td>False</td>\n",
       "    </tr>\n",
       "    <tr>\n",
       "      <th>1</th>\n",
       "      <td>131971</td>\n",
       "      <td>335982</td>\n",
       "      <td>2008-04-18</td>\n",
       "      <td>T20</td>\n",
       "      <td>Indian Premier League</td>\n",
       "      <td>1</td>\n",
       "      <td>Kolkata Knight Riders</td>\n",
       "      <td>Royal Challengers Bangalore</td>\n",
       "      <td>0</td>\n",
       "      <td>2</td>\n",
       "      <td>...</td>\n",
       "      <td>1</td>\n",
       "      <td>2</td>\n",
       "      <td>0</td>\n",
       "      <td>NaN</td>\n",
       "      <td>0</td>\n",
       "      <td>1</td>\n",
       "      <td>0</td>\n",
       "      <td>('BB McCullum', 'SC Ganguly')</td>\n",
       "      <td>NaN</td>\n",
       "      <td>False</td>\n",
       "    </tr>\n",
       "    <tr>\n",
       "      <th>2</th>\n",
       "      <td>131972</td>\n",
       "      <td>335982</td>\n",
       "      <td>2008-04-18</td>\n",
       "      <td>T20</td>\n",
       "      <td>Indian Premier League</td>\n",
       "      <td>1</td>\n",
       "      <td>Kolkata Knight Riders</td>\n",
       "      <td>Royal Challengers Bangalore</td>\n",
       "      <td>0</td>\n",
       "      <td>3</td>\n",
       "      <td>...</td>\n",
       "      <td>2</td>\n",
       "      <td>2</td>\n",
       "      <td>0</td>\n",
       "      <td>NaN</td>\n",
       "      <td>0</td>\n",
       "      <td>1</td>\n",
       "      <td>0</td>\n",
       "      <td>('BB McCullum', 'SC Ganguly')</td>\n",
       "      <td>NaN</td>\n",
       "      <td>False</td>\n",
       "    </tr>\n",
       "    <tr>\n",
       "      <th>3</th>\n",
       "      <td>131973</td>\n",
       "      <td>335982</td>\n",
       "      <td>2008-04-18</td>\n",
       "      <td>T20</td>\n",
       "      <td>Indian Premier League</td>\n",
       "      <td>1</td>\n",
       "      <td>Kolkata Knight Riders</td>\n",
       "      <td>Royal Challengers Bangalore</td>\n",
       "      <td>0</td>\n",
       "      <td>3</td>\n",
       "      <td>...</td>\n",
       "      <td>2</td>\n",
       "      <td>3</td>\n",
       "      <td>0</td>\n",
       "      <td>NaN</td>\n",
       "      <td>0</td>\n",
       "      <td>2</td>\n",
       "      <td>0</td>\n",
       "      <td>('BB McCullum', 'SC Ganguly')</td>\n",
       "      <td>NaN</td>\n",
       "      <td>False</td>\n",
       "    </tr>\n",
       "    <tr>\n",
       "      <th>4</th>\n",
       "      <td>131974</td>\n",
       "      <td>335982</td>\n",
       "      <td>2008-04-18</td>\n",
       "      <td>T20</td>\n",
       "      <td>Indian Premier League</td>\n",
       "      <td>1</td>\n",
       "      <td>Kolkata Knight Riders</td>\n",
       "      <td>Royal Challengers Bangalore</td>\n",
       "      <td>0</td>\n",
       "      <td>4</td>\n",
       "      <td>...</td>\n",
       "      <td>2</td>\n",
       "      <td>4</td>\n",
       "      <td>0</td>\n",
       "      <td>NaN</td>\n",
       "      <td>0</td>\n",
       "      <td>3</td>\n",
       "      <td>0</td>\n",
       "      <td>('BB McCullum', 'SC Ganguly')</td>\n",
       "      <td>NaN</td>\n",
       "      <td>False</td>\n",
       "    </tr>\n",
       "  </tbody>\n",
       "</table>\n",
       "<p>5 rows × 64 columns</p>\n",
       "</div>"
      ],
      "text/plain": [
       "   Unnamed: 0  match_id        date match_type             event_name  \\\n",
       "0      131970    335982  2008-04-18        T20  Indian Premier League   \n",
       "1      131971    335982  2008-04-18        T20  Indian Premier League   \n",
       "2      131972    335982  2008-04-18        T20  Indian Premier League   \n",
       "3      131973    335982  2008-04-18        T20  Indian Premier League   \n",
       "4      131974    335982  2008-04-18        T20  Indian Premier League   \n",
       "\n",
       "   innings           batting_team                 bowling_team  over  ball  \\\n",
       "0        1  Kolkata Knight Riders  Royal Challengers Bangalore     0     1   \n",
       "1        1  Kolkata Knight Riders  Royal Challengers Bangalore     0     2   \n",
       "2        1  Kolkata Knight Riders  Royal Challengers Bangalore     0     3   \n",
       "3        1  Kolkata Knight Riders  Royal Challengers Bangalore     0     3   \n",
       "4        1  Kolkata Knight Riders  Royal Challengers Bangalore     0     4   \n",
       "\n",
       "   ...  team_runs team_balls  team_wicket  new_batter  batter_runs  \\\n",
       "0  ...          1          1            0         NaN            0   \n",
       "1  ...          1          2            0         NaN            0   \n",
       "2  ...          2          2            0         NaN            0   \n",
       "3  ...          2          3            0         NaN            0   \n",
       "4  ...          2          4            0         NaN            0   \n",
       "\n",
       "  batter_balls  bowler_wicket               batting_partners  next_batter  \\\n",
       "0            1              0  ('BB McCullum', 'SC Ganguly')          NaN   \n",
       "1            1              0  ('BB McCullum', 'SC Ganguly')          NaN   \n",
       "2            1              0  ('BB McCullum', 'SC Ganguly')          NaN   \n",
       "3            2              0  ('BB McCullum', 'SC Ganguly')          NaN   \n",
       "4            3              0  ('BB McCullum', 'SC Ganguly')          NaN   \n",
       "\n",
       "   striker_out  \n",
       "0        False  \n",
       "1        False  \n",
       "2        False  \n",
       "3        False  \n",
       "4        False  \n",
       "\n",
       "[5 rows x 64 columns]"
      ]
     },
     "metadata": {},
     "output_type": "display_data"
    }
   ],
   "source": [
    "import pandas as pd\n",
    "\n",
    "df = pd.read_csv('IPL.csv')\n",
    "display(df.head())"
   ]
  },
  {
   "cell_type": "markdown",
   "metadata": {
    "id": "7f174e4c"
   },
   "source": [
    "# Task\n",
    "Analyze cricket player performance statistics across seasons to identify the most consistent players based on batting and bowling metrics."
   ]
  },
  {
   "cell_type": "markdown",
   "metadata": {
    "id": "967166ad"
   },
   "source": [
    "## Handle mixed data types\n",
    "\n",
    "### Subtask:\n",
    "Investigate the columns with mixed data types and convert them to appropriate types.\n"
   ]
  },
  {
   "cell_type": "markdown",
   "metadata": {
    "id": "679b3769"
   },
   "source": [
    "**Reasoning**:\n",
    "Identify columns with mixed data types by checking the DtypeWarning from the previous cell and examining the 'object' type columns. Then sample values from these columns to understand the mixed types and decide on conversion strategies.\n",
    "\n"
   ]
  },
  {
   "cell_type": "code",
   "execution_count": 15,
   "metadata": {
    "colab": {
     "base_uri": "https://localhost:8080/"
    },
    "executionInfo": {
     "elapsed": 289,
     "status": "ok",
     "timestamp": 1751890648895,
     "user": {
      "displayName": "Venu Gopal Reddy",
      "userId": "15021246577011012975"
     },
     "user_tz": -330
    },
    "id": "660421ae",
    "outputId": "847a8ea8-00ee-4b08-9fda-db657bd28014"
   },
   "outputs": [
    {
     "name": "stdout",
     "output_type": "stream",
     "text": [
      "Columns identified for investigation:\n",
      "['review_batter', 'team_reviewed', 'review_decision', 'umpire', 'season', 'superover_winner', 'result_type', 'method', 'event_match_no']\n",
      "\n",
      "Sampling values for column: review_batter\n",
      "[nan, nan, nan, nan, nan, nan, nan, nan, nan, nan]\n",
      "\n",
      "Sampling values for column: team_reviewed\n",
      "[nan, nan, nan, nan, nan, nan, nan, nan, nan, nan]\n",
      "\n",
      "Sampling values for column: review_decision\n",
      "[nan, nan, nan, nan, nan, nan, nan, nan, nan, nan]\n",
      "\n",
      "Sampling values for column: umpire\n",
      "[nan, nan, nan, nan, nan, nan, nan, nan, nan, nan]\n",
      "\n",
      "Sampling values for column: season\n",
      "[2011, '2020/21', '2009/10', 2025, '2021', 2017, '2009/10', '2007/08', 2021, '2007/08']\n",
      "\n",
      "Sampling values for column: superover_winner\n",
      "[nan, nan, nan, nan, nan, nan, nan, nan, nan, nan]\n",
      "\n",
      "Sampling values for column: result_type\n",
      "[nan, nan, nan, nan, nan, nan, nan, nan, nan, nan]\n",
      "\n",
      "Sampling values for column: method\n",
      "[nan, nan, nan, nan, nan, nan, nan, nan, nan, nan]\n",
      "\n",
      "Sampling values for column: event_match_no\n",
      "['52', 38, 7, '12', 11, '12', 28, 21, 39, '5']\n"
     ]
    }
   ],
   "source": [
    "mixed_type_columns = ['28', '29', '30', '31', '43', '46', '47', '48', '51', '63']\n",
    "object_columns = df.select_dtypes(include='object').columns.tolist()\n",
    "\n",
    "columns_to_investigate = [col for col in mixed_type_columns if col in object_columns]\n",
    "\n",
    "if not columns_to_investigate:\n",
    "    warning_indices = [int(col) for col in mixed_type_columns if col.isdigit()]\n",
    "    if warning_indices:\n",
    "        all_columns = df.columns.tolist()\n",
    "        columns_to_investigate_by_index = [all_columns[i] for i in warning_indices if i < len(all_columns)]\n",
    "        columns_to_investigate = [col for col in columns_to_investigate_by_index if df[col].dtype == 'object']\n",
    "\n",
    "print(\"Columns identified for investigation:\")\n",
    "print(columns_to_investigate)\n",
    "\n",
    "for col in columns_to_investigate:\n",
    "    print(f\"\\nSampling values for column: {col}\")\n",
    "    print(df[col].sample(min(10, len(df[col].dropna()))).tolist())\n"
   ]
  },
  {
   "cell_type": "markdown",
   "metadata": {
    "id": "4075fb47"
   },
   "source": [
    "**Reasoning**:\n",
    "Based on the sample values, several columns are mostly NaN or consistent boolean/numeric values. The 'season' column has mixed integers and strings, and 'event_match_no' has mixed integers, floats, and strings. These need conversion. The other columns appear to be fine or don't require type conversion for this task.\n",
    "\n"
   ]
  },
  {
   "cell_type": "code",
   "execution_count": 16,
   "metadata": {
    "colab": {
     "base_uri": "https://localhost:8080/",
     "height": 182
    },
    "executionInfo": {
     "elapsed": 138,
     "status": "ok",
     "timestamp": 1751890649032,
     "user": {
      "displayName": "Venu Gopal Reddy",
      "userId": "15021246577011012975"
     },
     "user_tz": -330
    },
    "id": "8a6b4a83",
    "outputId": "748439e0-9bd7-40ca-e90d-68a2acb9d27b"
   },
   "outputs": [
    {
     "name": "stdout",
     "output_type": "stream",
     "text": [
      "\n",
      "Data types after conversion:\n"
     ]
    },
    {
     "data": {
      "text/plain": [
       "season             object\n",
       "event_match_no    float64\n",
       "dtype: object"
      ]
     },
     "metadata": {},
     "output_type": "display_data"
    }
   ],
   "source": [
    "df['season'] = df['season'].astype(str)\n",
    "df['event_match_no'] = pd.to_numeric(df['event_match_no'], errors='coerce')\n",
    "\n",
    "print(\"\\nData types after conversion:\")\n",
    "display(df[['season', 'event_match_no']].dtypes)"
   ]
  },
  {
   "cell_type": "markdown",
   "metadata": {
    "id": "3c1c3702"
   },
   "source": [
    "## Data cleaning\n",
    "\n",
    "### Subtask:\n",
    "Clean the data by handling missing values, inconsistencies, and outliers.\n"
   ]
  },
  {
   "cell_type": "markdown",
   "metadata": {
    "id": "a71e3de0"
   },
   "source": [
    "**Reasoning**:\n",
    "Identify and handle missing values in the dataframe by calculating the percentage of missing values for each column, deciding whether to drop columns with a high percentage of missing values, and imputing missing values in relevant columns with a moderate percentage, then print the number of missing values per column and the data types to verify.\n",
    "\n"
   ]
  },
  {
   "cell_type": "code",
   "execution_count": 17,
   "metadata": {
    "colab": {
     "base_uri": "https://localhost:8080/"
    },
    "executionInfo": {
     "elapsed": 1389,
     "status": "ok",
     "timestamp": 1751890650424,
     "user": {
      "displayName": "Venu Gopal Reddy",
      "userId": "15021246577011012975"
     },
     "user_tz": -330
    },
    "id": "52c28407",
    "outputId": "6516ecdf-e4b7-447f-f96e-a2cd55cf9f87"
   },
   "outputs": [
    {
     "name": "stdout",
     "output_type": "stream",
     "text": [
      "Percentage of missing values per column:\n",
      "review_batter       99.686562\n",
      "team_reviewed       99.686562\n",
      "review_decision     99.686562\n",
      "umpire              99.686562\n",
      "method              98.601751\n",
      "superover_winner    98.599594\n",
      "result_type         98.309879\n",
      "fielders            96.400855\n",
      "new_batter          95.211804\n",
      "next_batter         95.211804\n",
      "wicket_kind         95.031362\n",
      "player_out          95.031362\n",
      "extra_type          94.560486\n",
      "runs_target         51.868946\n",
      "event_match_no       6.007441\n",
      "win_outcome          1.690121\n",
      "dtype: float64\n",
      "\n",
      "Dropped columns with high missing percentage: ['new_batter', 'next_batter']\n",
      "\n",
      "Missing values per column after handling:\n",
      "extra_type          263072\n",
      "wicket_kind         264382\n",
      "player_out          264382\n",
      "fielders            268192\n",
      "runs_target         144302\n",
      "review_batter       277333\n",
      "team_reviewed       277333\n",
      "review_decision     277333\n",
      "umpire              277333\n",
      "win_outcome           4702\n",
      "superover_winner    274309\n",
      "result_type         273503\n",
      "method              274315\n",
      "event_match_no       16713\n",
      "dtype: int64\n",
      "\n",
      "Data types after cleaning:\n",
      "Unnamed: 0           int64\n",
      "match_id             int64\n",
      "date                object\n",
      "match_type          object\n",
      "event_name          object\n",
      "                     ...  \n",
      "batter_runs          int64\n",
      "batter_balls         int64\n",
      "bowler_wicket        int64\n",
      "batting_partners    object\n",
      "striker_out           bool\n",
      "Length: 62, dtype: object\n"
     ]
    }
   ],
   "source": [
    "missing_percentage = df.isnull().sum() / len(df) * 100\n",
    "print(\"Percentage of missing values per column:\")\n",
    "print(missing_percentage[missing_percentage > 0].sort_values(ascending=False))\n",
    "\n",
    "columns_to_drop = missing_percentage[missing_percentage > 50].index.tolist()\n",
    "irrelevant_columns_to_drop = [col for col in columns_to_drop if col in ['Unnamed: 0', 'new_batter', 'next_batter', 'striker_out']] \n",
    "df.drop(columns=irrelevant_columns_to_drop, inplace=True)\n",
    "print(f\"\\nDropped columns with high missing percentage: {irrelevant_columns_to_drop}\")\n",
    "\n",
    "numerical_cols_to_impute = ['team_runs', 'team_balls', 'team_wicket', 'batter_runs', 'batter_balls', 'bowler_wicket']\n",
    "for col in numerical_cols_to_impute:\n",
    "    if col in df.columns and df[col].isnull().sum() > 0 and missing_percentage[col] <= 50:\n",
    "        median_val = df[col].median()\n",
    "        df[col].fillna(median_val, inplace=True)\n",
    "        print(f\"Imputed missing values in '{col}' with median: {median_val}\")\n",
    "\n",
    "categorical_cols_to_impute = ['innings', 'match_type', 'event_name', 'batting_team', 'bowling_team', 'over', 'ball']\n",
    "for col in categorical_cols_to_impute:\n",
    "    if col in df.columns and df[col].isnull().sum() > 0 and missing_percentage[col] <= 50:\n",
    "        mode_val = df[col].mode()[0]\n",
    "        df[col].fillna(mode_val, inplace=True)\n",
    "        print(f\"Imputed missing values in '{col}' with mode: {mode_val}\")\n",
    "\n",
    "print(\"\\nMissing values per column after handling:\")\n",
    "print(df.isnull().sum()[df.isnull().sum() > 0])\n",
    "\n",
    "# Print the data types after cleaning\n",
    "print(\"\\nData types after cleaning:\")\n",
    "print(df.dtypes)"
   ]
  },
  {
   "cell_type": "markdown",
   "metadata": {
    "id": "cbf65dff"
   },
   "source": [
    "**Reasoning**:\n",
    "Handle inconsistencies in categorical columns by identifying unique values and standardizing them if necessary, and analyze numerical columns for outliers and decide on a strategy to handle them. Then print the number of missing values and data types to verify.\n",
    "\n"
   ]
  },
  {
   "cell_type": "code",
   "execution_count": 18,
   "metadata": {
    "colab": {
     "base_uri": "https://localhost:8080/"
    },
    "executionInfo": {
     "elapsed": 1225,
     "status": "ok",
     "timestamp": 1751890651651,
     "user": {
      "displayName": "Venu Gopal Reddy",
      "userId": "15021246577011012975"
     },
     "user_tz": -330
    },
    "id": "yBlc8dNbR-65",
    "outputId": "3126bd2d-1aa0-44df-bfdc-5b931d726d8b"
   },
   "outputs": [
    {
     "name": "stdout",
     "output_type": "stream",
     "text": [
      "\n",
      "Unique values for a sample of categorical columns:\n",
      "\n",
      "Unique values for column: match_type\n",
      "['T20']\n",
      "\n",
      "Unique values for column: event_name\n",
      "['Indian Premier League']\n",
      "\n",
      "Unique values for column: batting_team\n",
      "['Kolkata Knight Riders' 'Royal Challengers Bangalore'\n",
      " 'Chennai Super Kings' 'Kings XI Punjab' 'Rajasthan Royals'\n",
      " 'Delhi Daredevils' 'Mumbai Indians' 'Deccan Chargers'\n",
      " 'Kochi Tuskers Kerala' 'Pune Warriors' 'Sunrisers Hyderabad'\n",
      " 'Rising Pune Supergiants' 'Gujarat Lions' 'Rising Pune Supergiant'\n",
      " 'Delhi Capitals' 'Punjab Kings' 'Lucknow Super Giants' 'Gujarat Titans'\n",
      " 'Royal Challengers Bengaluru']\n",
      "\n",
      "Unique values for column: bowling_team\n",
      "['Royal Challengers Bangalore' 'Kolkata Knight Riders' 'Kings XI Punjab'\n",
      " 'Chennai Super Kings' 'Delhi Daredevils' 'Rajasthan Royals'\n",
      " 'Mumbai Indians' 'Deccan Chargers' 'Kochi Tuskers Kerala' 'Pune Warriors'\n",
      " 'Sunrisers Hyderabad' 'Rising Pune Supergiants' 'Gujarat Lions'\n",
      " 'Rising Pune Supergiant' 'Delhi Capitals' 'Punjab Kings' 'Gujarat Titans'\n",
      " 'Lucknow Super Giants' 'Royal Challengers Bengaluru']\n",
      "\n",
      "Descriptive statistics for numerical columns:\n",
      "\n",
      "Missing values per column after handling inconsistencies:\n",
      "extra_type          263072\n",
      "wicket_kind         264382\n",
      "player_out          264382\n",
      "fielders            268192\n",
      "runs_target         144302\n",
      "review_batter       277333\n",
      "team_reviewed       277333\n",
      "review_decision     277333\n",
      "umpire              277333\n",
      "win_outcome           4702\n",
      "superover_winner    274309\n",
      "result_type         273503\n",
      "method              274315\n",
      "event_match_no       16713\n",
      "dtype: int64\n",
      "\n",
      "Data types after cleaning:\n",
      "Unnamed: 0           int64\n",
      "match_id             int64\n",
      "date                object\n",
      "match_type          object\n",
      "event_name          object\n",
      "                     ...  \n",
      "batter_runs          int64\n",
      "batter_balls         int64\n",
      "bowler_wicket        int64\n",
      "batting_partners    object\n",
      "striker_out           bool\n",
      "Length: 62, dtype: object\n"
     ]
    }
   ],
   "source": [
    "categorical_cols = df.select_dtypes(include='object').columns.tolist()\n",
    "\n",
    "print(\"\\nUnique values for a sample of categorical columns:\")\n",
    "for col in ['match_type', 'event_name', 'batting_team', 'bowling_team']:\n",
    "    if col in df.columns:\n",
    "        print(f\"\\nUnique values for column: {col}\")\n",
    "        print(df[col].unique()[:50]) # Displaying up to 50 unique values\n",
    "\n",
    "print(\"\\nDescriptive statistics for numerical columns:\")\n",
    "print(\"\\nMissing values per column after handling inconsistencies:\")\n",
    "print(df.isnull().sum()[df.isnull().sum() > 0])\n",
    "print(\"\\nData types after cleaning:\")\n",
    "print(df.dtypes)"
   ]
  },
  {
   "cell_type": "markdown",
   "metadata": {
    "id": "9f6f377f"
   },
   "source": [
    "**Reasoning**:\n",
    "Based on the examination of unique values in categorical columns, specifically 'batting_team' and 'bowling_team', there are inconsistencies in team names (e.g., 'Delhi Daredevils' and 'Delhi Capitals', 'Rising Pune Supergiants' and 'Rising Pune Supergiant'). Standardize these team names to ensure consistent analysis. Also, based on the descriptive statistics of numerical columns, while there are high maximum values for runs and balls, these appear to be valid game statistics rather than outliers needing removal or capping for this initial cleaning phase. No explicit outlier handling strategy will be implemented at this stage without further analysis requirements. Finally, print the number of missing values and data types to verify.\n",
    "\n"
   ]
  },
  {
   "cell_type": "code",
   "execution_count": 19,
   "metadata": {
    "colab": {
     "base_uri": "https://localhost:8080/"
    },
    "executionInfo": {
     "elapsed": 829,
     "status": "ok",
     "timestamp": 1751890652482,
     "user": {
      "displayName": "Venu Gopal Reddy",
      "userId": "15021246577011012975"
     },
     "user_tz": -330
    },
    "id": "c0d44f64",
    "outputId": "b3599479-ab8a-4c04-efc6-56a9c9c6b2b6"
   },
   "outputs": [
    {
     "name": "stdout",
     "output_type": "stream",
     "text": [
      "\n",
      "Unique values for batting_team after standardization:\n",
      "['Kolkata Knight Riders' 'Royal Challengers Bangalore'\n",
      " 'Chennai Super Kings' 'Kings XI Punjab' 'Rajasthan Royals'\n",
      " 'Delhi Capitals' 'Mumbai Indians' 'Deccan Chargers'\n",
      " 'Kochi Tuskers Kerala' 'Pune Warriors' 'Sunrisers Hyderabad'\n",
      " 'Rising Pune Supergiant' 'Gujarat Lions' 'Punjab Kings'\n",
      " 'Lucknow Super Giants' 'Gujarat Titans' 'Royal Challengers Bengaluru']\n",
      "\n",
      "Unique values for bowling_team after standardization:\n",
      "['Royal Challengers Bangalore' 'Kolkata Knight Riders' 'Kings XI Punjab'\n",
      " 'Chennai Super Kings' 'Delhi Capitals' 'Rajasthan Royals'\n",
      " 'Mumbai Indians' 'Deccan Chargers' 'Kochi Tuskers Kerala' 'Pune Warriors'\n",
      " 'Sunrisers Hyderabad' 'Rising Pune Supergiant' 'Gujarat Lions'\n",
      " 'Punjab Kings' 'Gujarat Titans' 'Lucknow Super Giants'\n",
      " 'Royal Challengers Bengaluru']\n",
      "\n",
      "Missing values per column after handling inconsistencies and standardization:\n",
      "extra_type          263072\n",
      "wicket_kind         264382\n",
      "player_out          264382\n",
      "fielders            268192\n",
      "runs_target         144302\n",
      "review_batter       277333\n",
      "team_reviewed       277333\n",
      "review_decision     277333\n",
      "umpire              277333\n",
      "win_outcome           4702\n",
      "superover_winner    274309\n",
      "result_type         273503\n",
      "method              274315\n",
      "event_match_no       16713\n",
      "dtype: int64\n",
      "\n",
      "Data types after cleaning and standardization:\n",
      "Unnamed: 0           int64\n",
      "match_id             int64\n",
      "date                object\n",
      "match_type          object\n",
      "event_name          object\n",
      "                     ...  \n",
      "batter_runs          int64\n",
      "batter_balls         int64\n",
      "bowler_wicket        int64\n",
      "batting_partners    object\n",
      "striker_out           bool\n",
      "Length: 62, dtype: object\n"
     ]
    }
   ],
   "source": [
    "team_name_mapping = {\n",
    "    'Delhi Daredevils': 'Delhi Capitals',\n",
    "    'Rising Pune Supergiants': 'Rising Pune Supergiant'\n",
    "}\n",
    "\n",
    "df['batting_team'] = df['batting_team'].replace(team_name_mapping)\n",
    "df['bowling_team'] = df['bowling_team'].replace(team_name_mapping)\n",
    "\n",
    "print(\"\\nUnique values for batting_team after standardization:\")\n",
    "print(df['batting_team'].unique())\n",
    "\n",
    "print(\"\\nUnique values for bowling_team after standardization:\")\n",
    "print(df['bowling_team'].unique())\n",
    "print(\"\\nMissing values per column after handling inconsistencies and standardization:\")\n",
    "print(df.isnull().sum()[df.isnull().sum() > 0])\n",
    "print(\"\\nData types after cleaning and standardization:\")\n",
    "print(df.dtypes)"
   ]
  },
  {
   "cell_type": "markdown",
   "metadata": {
    "id": "492fd5da"
   },
   "source": [
    "## Feature engineering\n",
    "\n",
    "### Subtask:\n",
    "Create new features like season, year, and match type to group and analyze data.\n"
   ]
  },
  {
   "cell_type": "markdown",
   "metadata": {
    "id": "333ca864"
   },
   "source": [
    "**Reasoning**:\n",
    "Extract the year from the 'date' column, convert 'season' to string, and display the first few rows with the new columns.\n",
    "\n"
   ]
  },
  {
   "cell_type": "code",
   "execution_count": 20,
   "metadata": {
    "colab": {
     "base_uri": "https://localhost:8080/",
     "height": 206
    },
    "executionInfo": {
     "elapsed": 172,
     "status": "ok",
     "timestamp": 1751890652653,
     "user": {
      "displayName": "Venu Gopal Reddy",
      "userId": "15021246577011012975"
     },
     "user_tz": -330
    },
    "id": "4d5f14c2",
    "outputId": "c4085ddd-92c1-4dee-e27c-7504e912d212"
   },
   "outputs": [
    {
     "data": {
      "text/html": [
       "<div>\n",
       "<style scoped>\n",
       "    .dataframe tbody tr th:only-of-type {\n",
       "        vertical-align: middle;\n",
       "    }\n",
       "\n",
       "    .dataframe tbody tr th {\n",
       "        vertical-align: top;\n",
       "    }\n",
       "\n",
       "    .dataframe thead th {\n",
       "        text-align: right;\n",
       "    }\n",
       "</style>\n",
       "<table border=\"1\" class=\"dataframe\">\n",
       "  <thead>\n",
       "    <tr style=\"text-align: right;\">\n",
       "      <th></th>\n",
       "      <th>date</th>\n",
       "      <th>year</th>\n",
       "      <th>season</th>\n",
       "      <th>match_type</th>\n",
       "      <th>match_type_category</th>\n",
       "    </tr>\n",
       "  </thead>\n",
       "  <tbody>\n",
       "    <tr>\n",
       "      <th>0</th>\n",
       "      <td>2008-04-18</td>\n",
       "      <td>2008</td>\n",
       "      <td>2007/08</td>\n",
       "      <td>T20</td>\n",
       "      <td>T20</td>\n",
       "    </tr>\n",
       "    <tr>\n",
       "      <th>1</th>\n",
       "      <td>2008-04-18</td>\n",
       "      <td>2008</td>\n",
       "      <td>2007/08</td>\n",
       "      <td>T20</td>\n",
       "      <td>T20</td>\n",
       "    </tr>\n",
       "    <tr>\n",
       "      <th>2</th>\n",
       "      <td>2008-04-18</td>\n",
       "      <td>2008</td>\n",
       "      <td>2007/08</td>\n",
       "      <td>T20</td>\n",
       "      <td>T20</td>\n",
       "    </tr>\n",
       "    <tr>\n",
       "      <th>3</th>\n",
       "      <td>2008-04-18</td>\n",
       "      <td>2008</td>\n",
       "      <td>2007/08</td>\n",
       "      <td>T20</td>\n",
       "      <td>T20</td>\n",
       "    </tr>\n",
       "    <tr>\n",
       "      <th>4</th>\n",
       "      <td>2008-04-18</td>\n",
       "      <td>2008</td>\n",
       "      <td>2007/08</td>\n",
       "      <td>T20</td>\n",
       "      <td>T20</td>\n",
       "    </tr>\n",
       "  </tbody>\n",
       "</table>\n",
       "</div>"
      ],
      "text/plain": [
       "         date  year   season match_type match_type_category\n",
       "0  2008-04-18  2008  2007/08        T20                 T20\n",
       "1  2008-04-18  2008  2007/08        T20                 T20\n",
       "2  2008-04-18  2008  2007/08        T20                 T20\n",
       "3  2008-04-18  2008  2007/08        T20                 T20\n",
       "4  2008-04-18  2008  2007/08        T20                 T20"
      ]
     },
     "metadata": {},
     "output_type": "display_data"
    }
   ],
   "source": [
    "df['year'] = pd.to_datetime(df['date']).dt.year\n",
    "df['season'] = df['season'].astype(str)\n",
    "df['match_type_category'] = df['match_type']\n",
    "display(df[['date', 'year', 'season', 'match_type', 'match_type_category']].head())"
   ]
  },
  {
   "cell_type": "code",
   "execution_count": 21,
   "metadata": {
    "colab": {
     "base_uri": "https://localhost:8080/"
    },
    "executionInfo": {
     "elapsed": 32,
     "status": "ok",
     "timestamp": 1751890654064,
     "user": {
      "displayName": "Venu Gopal Reddy",
      "userId": "15021246577011012975"
     },
     "user_tz": -330
    },
    "id": "dVuKqdK-SNkc",
    "outputId": "e4c2721b-bb06-4029-aaf9-3818106dbfd8"
   },
   "outputs": [
    {
     "name": "stdout",
     "output_type": "stream",
     "text": [
      "Index(['Unnamed: 0', 'match_id', 'date', 'match_type', 'event_name', 'innings',\n",
      "       'batting_team', 'bowling_team', 'over', 'ball', 'ball_no', 'batter',\n",
      "       'bat_pos', 'runs_batter', 'balls_faced', 'bowler', 'valid_ball',\n",
      "       'runs_extras', 'runs_total', 'runs_bowler', 'runs_not_boundary',\n",
      "       'extra_type', 'non_striker', 'non_striker_pos', 'wicket_kind',\n",
      "       'player_out', 'fielders', 'runs_target', 'review_batter',\n",
      "       'team_reviewed', 'review_decision', 'umpire', 'umpires_call',\n",
      "       'player_of_match', 'match_won_by', 'win_outcome', 'toss_winner',\n",
      "       'toss_decision', 'venue', 'city', 'day', 'month', 'year', 'season',\n",
      "       'gender', 'team_type', 'superover_winner', 'result_type', 'method',\n",
      "       'balls_per_over', 'overs', 'event_match_no', 'stage', 'match_number',\n",
      "       'team_runs', 'team_balls', 'team_wicket', 'batter_runs', 'batter_balls',\n",
      "       'bowler_wicket', 'batting_partners', 'striker_out',\n",
      "       'match_type_category'],\n",
      "      dtype='object')\n"
     ]
    }
   ],
   "source": [
    "print(df_innings.columns)"
   ]
  },
  {
   "cell_type": "markdown",
   "metadata": {
    "id": "d22f22ec"
   },
   "source": [
    "**Reasoning**:\n",
    "Based on the printed column names, 'runs_bowler' seems to represent the runs conceded by the bowler and 'wicket_kind' indicates the type of wicket taken. I will regenerate the code to calculate the bowling statistics using these column names.\n",
    "\n"
   ]
  },
  {
   "cell_type": "markdown",
   "metadata": {
    "id": "6759b3c4"
   },
   "source": [
    "**Reasoning**:\n",
    "Calculate standard deviations for batting and bowling stats, filter players by seasons played, and merge the results for consistency analysis.\n",
    "\n"
   ]
  },
  {
   "cell_type": "code",
   "execution_count": 35,
   "metadata": {
    "colab": {
     "base_uri": "https://localhost:8080/",
     "height": 1000
    },
    "executionInfo": {
     "elapsed": 63,
     "status": "ok",
     "timestamp": 1751890654865,
     "user": {
      "displayName": "Venu Gopal Reddy",
      "userId": "15021246577011012975"
     },
     "user_tz": -330
    },
    "id": "f372f0c0",
    "outputId": "b7763206-eab1-4cb5-9324-231f526931e6"
   },
   "outputs": [
    {
     "name": "stdout",
     "output_type": "stream",
     "text": [
      "Top 10 Most Consistent Batters (by Strike Rate Std Dev):\n"
     ]
    },
    {
     "data": {
      "text/html": [
       "<div>\n",
       "<style scoped>\n",
       "    .dataframe tbody tr th:only-of-type {\n",
       "        vertical-align: middle;\n",
       "    }\n",
       "\n",
       "    .dataframe tbody tr th {\n",
       "        vertical-align: top;\n",
       "    }\n",
       "\n",
       "    .dataframe thead th {\n",
       "        text-align: right;\n",
       "    }\n",
       "</style>\n",
       "<table border=\"1\" class=\"dataframe\">\n",
       "  <thead>\n",
       "    <tr style=\"text-align: right;\">\n",
       "      <th></th>\n",
       "      <th>player</th>\n",
       "      <th>batting_strike_rate_std</th>\n",
       "      <th>batting_seasons_played</th>\n",
       "    </tr>\n",
       "  </thead>\n",
       "  <tbody>\n",
       "    <tr>\n",
       "      <th>60</th>\n",
       "      <td>SK Raina</td>\n",
       "      <td>9.042720</td>\n",
       "      <td>13</td>\n",
       "    </tr>\n",
       "    <tr>\n",
       "      <th>25</th>\n",
       "      <td>JC Buttler</td>\n",
       "      <td>12.533727</td>\n",
       "      <td>10</td>\n",
       "    </tr>\n",
       "    <tr>\n",
       "      <th>17</th>\n",
       "      <td>F du Plessis</td>\n",
       "      <td>13.674620</td>\n",
       "      <td>13</td>\n",
       "    </tr>\n",
       "    <tr>\n",
       "      <th>32</th>\n",
       "      <td>KL Rahul</td>\n",
       "      <td>13.682101</td>\n",
       "      <td>12</td>\n",
       "    </tr>\n",
       "    <tr>\n",
       "      <th>36</th>\n",
       "      <td>MA Agarwal</td>\n",
       "      <td>13.843481</td>\n",
       "      <td>15</td>\n",
       "    </tr>\n",
       "    <tr>\n",
       "      <th>18</th>\n",
       "      <td>G Gambhir</td>\n",
       "      <td>14.200919</td>\n",
       "      <td>11</td>\n",
       "    </tr>\n",
       "    <tr>\n",
       "      <th>54</th>\n",
       "      <td>RA Jadeja</td>\n",
       "      <td>14.384716</td>\n",
       "      <td>17</td>\n",
       "    </tr>\n",
       "    <tr>\n",
       "      <th>55</th>\n",
       "      <td>RG Sharma</td>\n",
       "      <td>14.424311</td>\n",
       "      <td>18</td>\n",
       "    </tr>\n",
       "    <tr>\n",
       "      <th>65</th>\n",
       "      <td>SS Tiwary</td>\n",
       "      <td>14.874859</td>\n",
       "      <td>11</td>\n",
       "    </tr>\n",
       "    <tr>\n",
       "      <th>57</th>\n",
       "      <td>S Dhawan</td>\n",
       "      <td>15.650825</td>\n",
       "      <td>17</td>\n",
       "    </tr>\n",
       "  </tbody>\n",
       "</table>\n",
       "</div>"
      ],
      "text/plain": [
       "          player  batting_strike_rate_std  batting_seasons_played\n",
       "60      SK Raina                 9.042720                      13\n",
       "25    JC Buttler                12.533727                      10\n",
       "17  F du Plessis                13.674620                      13\n",
       "32      KL Rahul                13.682101                      12\n",
       "36    MA Agarwal                13.843481                      15\n",
       "18     G Gambhir                14.200919                      11\n",
       "54     RA Jadeja                14.384716                      17\n",
       "55     RG Sharma                14.424311                      18\n",
       "65     SS Tiwary                14.874859                      11\n",
       "57      S Dhawan                15.650825                      17"
      ]
     },
     "metadata": {},
     "output_type": "display_data"
    },
    {
     "name": "stdout",
     "output_type": "stream",
     "text": [
      "\n",
      "Top 10 Most Consistent Batters (by Average Std Dev):\n"
     ]
    },
    {
     "data": {
      "text/html": [
       "<div>\n",
       "<style scoped>\n",
       "    .dataframe tbody tr th:only-of-type {\n",
       "        vertical-align: middle;\n",
       "    }\n",
       "\n",
       "    .dataframe tbody tr th {\n",
       "        vertical-align: top;\n",
       "    }\n",
       "\n",
       "    .dataframe thead th {\n",
       "        text-align: right;\n",
       "    }\n",
       "</style>\n",
       "<table border=\"1\" class=\"dataframe\">\n",
       "  <thead>\n",
       "    <tr style=\"text-align: right;\">\n",
       "      <th></th>\n",
       "      <th>player</th>\n",
       "      <th>batting_average_std</th>\n",
       "      <th>batting_seasons_played</th>\n",
       "    </tr>\n",
       "  </thead>\n",
       "  <tbody>\n",
       "    <tr>\n",
       "      <th>46</th>\n",
       "      <td>P Kumar</td>\n",
       "      <td>30.966481</td>\n",
       "      <td>10</td>\n",
       "    </tr>\n",
       "    <tr>\n",
       "      <th>48</th>\n",
       "      <td>PP Chawla</td>\n",
       "      <td>35.076780</td>\n",
       "      <td>15</td>\n",
       "    </tr>\n",
       "    <tr>\n",
       "      <th>51</th>\n",
       "      <td>R Bhatia</td>\n",
       "      <td>57.712506</td>\n",
       "      <td>10</td>\n",
       "    </tr>\n",
       "    <tr>\n",
       "      <th>50</th>\n",
       "      <td>R Ashwin</td>\n",
       "      <td>68.632264</td>\n",
       "      <td>16</td>\n",
       "    </tr>\n",
       "    <tr>\n",
       "      <th>47</th>\n",
       "      <td>PA Patel</td>\n",
       "      <td>83.711734</td>\n",
       "      <td>12</td>\n",
       "    </tr>\n",
       "    <tr>\n",
       "      <th>66</th>\n",
       "      <td>STR Binny</td>\n",
       "      <td>103.358230</td>\n",
       "      <td>10</td>\n",
       "    </tr>\n",
       "    <tr>\n",
       "      <th>52</th>\n",
       "      <td>R Tewatia</td>\n",
       "      <td>109.040495</td>\n",
       "      <td>10</td>\n",
       "    </tr>\n",
       "    <tr>\n",
       "      <th>44</th>\n",
       "      <td>N Rana</td>\n",
       "      <td>122.693874</td>\n",
       "      <td>10</td>\n",
       "    </tr>\n",
       "    <tr>\n",
       "      <th>6</th>\n",
       "      <td>AR Patel</td>\n",
       "      <td>125.825777</td>\n",
       "      <td>12</td>\n",
       "    </tr>\n",
       "    <tr>\n",
       "      <th>76</th>\n",
       "      <td>Yuvraj Singh</td>\n",
       "      <td>132.772039</td>\n",
       "      <td>11</td>\n",
       "    </tr>\n",
       "  </tbody>\n",
       "</table>\n",
       "</div>"
      ],
      "text/plain": [
       "          player  batting_average_std  batting_seasons_played\n",
       "46       P Kumar            30.966481                      10\n",
       "48     PP Chawla            35.076780                      15\n",
       "51      R Bhatia            57.712506                      10\n",
       "50      R Ashwin            68.632264                      16\n",
       "47      PA Patel            83.711734                      12\n",
       "66     STR Binny           103.358230                      10\n",
       "52     R Tewatia           109.040495                      10\n",
       "44        N Rana           122.693874                      10\n",
       "6       AR Patel           125.825777                      12\n",
       "76  Yuvraj Singh           132.772039                      11"
      ]
     },
     "metadata": {},
     "output_type": "display_data"
    },
    {
     "name": "stdout",
     "output_type": "stream",
     "text": [
      "\n",
      "Top 10 Most Consistent Bowlers (by Economy Rate Std Dev):\n"
     ]
    },
    {
     "data": {
      "text/html": [
       "<div>\n",
       "<style scoped>\n",
       "    .dataframe tbody tr th:only-of-type {\n",
       "        vertical-align: middle;\n",
       "    }\n",
       "\n",
       "    .dataframe tbody tr th {\n",
       "        vertical-align: top;\n",
       "    }\n",
       "\n",
       "    .dataframe thead th {\n",
       "        text-align: right;\n",
       "    }\n",
       "</style>\n",
       "<table border=\"1\" class=\"dataframe\">\n",
       "  <thead>\n",
       "    <tr style=\"text-align: right;\">\n",
       "      <th></th>\n",
       "      <th>player</th>\n",
       "      <th>bowling_economy_rate_std</th>\n",
       "      <th>bowling_seasons_played</th>\n",
       "    </tr>\n",
       "  </thead>\n",
       "  <tbody>\n",
       "    <tr>\n",
       "      <th>30</th>\n",
       "      <td>KH Pandya</td>\n",
       "      <td>0.397717</td>\n",
       "      <td>10</td>\n",
       "    </tr>\n",
       "    <tr>\n",
       "      <th>69</th>\n",
       "      <td>NaN</td>\n",
       "      <td>0.477895</td>\n",
       "      <td>11</td>\n",
       "    </tr>\n",
       "    <tr>\n",
       "      <th>13</th>\n",
       "      <td>DJ Bravo</td>\n",
       "      <td>0.624627</td>\n",
       "      <td>13</td>\n",
       "    </tr>\n",
       "    <tr>\n",
       "      <th>68</th>\n",
       "      <td>Sandeep Sharma</td>\n",
       "      <td>0.662735</td>\n",
       "      <td>13</td>\n",
       "    </tr>\n",
       "    <tr>\n",
       "      <th>77</th>\n",
       "      <td>NaN</td>\n",
       "      <td>0.698159</td>\n",
       "      <td>10</td>\n",
       "    </tr>\n",
       "    <tr>\n",
       "      <th>48</th>\n",
       "      <td>PP Chawla</td>\n",
       "      <td>0.771580</td>\n",
       "      <td>16</td>\n",
       "    </tr>\n",
       "    <tr>\n",
       "      <th>6</th>\n",
       "      <td>AR Patel</td>\n",
       "      <td>0.787966</td>\n",
       "      <td>12</td>\n",
       "    </tr>\n",
       "    <tr>\n",
       "      <th>46</th>\n",
       "      <td>P Kumar</td>\n",
       "      <td>0.802594</td>\n",
       "      <td>10</td>\n",
       "    </tr>\n",
       "    <tr>\n",
       "      <th>51</th>\n",
       "      <td>R Bhatia</td>\n",
       "      <td>0.809462</td>\n",
       "      <td>10</td>\n",
       "    </tr>\n",
       "    <tr>\n",
       "      <th>22</th>\n",
       "      <td>Harbhajan Singh</td>\n",
       "      <td>0.846095</td>\n",
       "      <td>13</td>\n",
       "    </tr>\n",
       "  </tbody>\n",
       "</table>\n",
       "</div>"
      ],
      "text/plain": [
       "             player  bowling_economy_rate_std  bowling_seasons_played\n",
       "30        KH Pandya                  0.397717                      10\n",
       "69              NaN                  0.477895                      11\n",
       "13         DJ Bravo                  0.624627                      13\n",
       "68   Sandeep Sharma                  0.662735                      13\n",
       "77              NaN                  0.698159                      10\n",
       "48        PP Chawla                  0.771580                      16\n",
       "6          AR Patel                  0.787966                      12\n",
       "46          P Kumar                  0.802594                      10\n",
       "51         R Bhatia                  0.809462                      10\n",
       "22  Harbhajan Singh                  0.846095                      13"
      ]
     },
     "metadata": {},
     "output_type": "display_data"
    },
    {
     "name": "stdout",
     "output_type": "stream",
     "text": [
      "\n",
      "Top 10 Most Consistent Bowlers (by Bowling Average Std Dev):\n"
     ]
    },
    {
     "data": {
      "text/html": [
       "<div>\n",
       "<style scoped>\n",
       "    .dataframe tbody tr th:only-of-type {\n",
       "        vertical-align: middle;\n",
       "    }\n",
       "\n",
       "    .dataframe tbody tr th {\n",
       "        vertical-align: top;\n",
       "    }\n",
       "\n",
       "    .dataframe thead th {\n",
       "        text-align: right;\n",
       "    }\n",
       "</style>\n",
       "<table border=\"1\" class=\"dataframe\">\n",
       "  <thead>\n",
       "    <tr style=\"text-align: right;\">\n",
       "      <th></th>\n",
       "      <th>player</th>\n",
       "      <th>bowling_average_std</th>\n",
       "      <th>bowling_seasons_played</th>\n",
       "    </tr>\n",
       "  </thead>\n",
       "  <tbody>\n",
       "    <tr>\n",
       "      <th>77</th>\n",
       "      <td>NaN</td>\n",
       "      <td>5.767198</td>\n",
       "      <td>10</td>\n",
       "    </tr>\n",
       "    <tr>\n",
       "      <th>48</th>\n",
       "      <td>PP Chawla</td>\n",
       "      <td>6.453991</td>\n",
       "      <td>16</td>\n",
       "    </tr>\n",
       "    <tr>\n",
       "      <th>69</th>\n",
       "      <td>NaN</td>\n",
       "      <td>7.556689</td>\n",
       "      <td>11</td>\n",
       "    </tr>\n",
       "    <tr>\n",
       "      <th>0</th>\n",
       "      <td>A Mishra</td>\n",
       "      <td>7.795965</td>\n",
       "      <td>16</td>\n",
       "    </tr>\n",
       "    <tr>\n",
       "      <th>53</th>\n",
       "      <td>R Vinay Kumar</td>\n",
       "      <td>7.812839</td>\n",
       "      <td>11</td>\n",
       "    </tr>\n",
       "    <tr>\n",
       "      <th>46</th>\n",
       "      <td>P Kumar</td>\n",
       "      <td>8.058290</td>\n",
       "      <td>10</td>\n",
       "    </tr>\n",
       "    <tr>\n",
       "      <th>13</th>\n",
       "      <td>DJ Bravo</td>\n",
       "      <td>8.147622</td>\n",
       "      <td>13</td>\n",
       "    </tr>\n",
       "    <tr>\n",
       "      <th>63</th>\n",
       "      <td>SR Watson</td>\n",
       "      <td>9.280063</td>\n",
       "      <td>10</td>\n",
       "    </tr>\n",
       "    <tr>\n",
       "      <th>62</th>\n",
       "      <td>SP Narine</td>\n",
       "      <td>10.207246</td>\n",
       "      <td>14</td>\n",
       "    </tr>\n",
       "    <tr>\n",
       "      <th>50</th>\n",
       "      <td>R Ashwin</td>\n",
       "      <td>11.000916</td>\n",
       "      <td>16</td>\n",
       "    </tr>\n",
       "  </tbody>\n",
       "</table>\n",
       "</div>"
      ],
      "text/plain": [
       "           player  bowling_average_std  bowling_seasons_played\n",
       "77            NaN             5.767198                      10\n",
       "48      PP Chawla             6.453991                      16\n",
       "69            NaN             7.556689                      11\n",
       "0        A Mishra             7.795965                      16\n",
       "53  R Vinay Kumar             7.812839                      11\n",
       "46        P Kumar             8.058290                      10\n",
       "13       DJ Bravo             8.147622                      13\n",
       "63      SR Watson             9.280063                      10\n",
       "62      SP Narine            10.207246                      14\n",
       "50       R Ashwin            11.000916                      16"
      ]
     },
     "metadata": {},
     "output_type": "display_data"
    }
   ],
   "source": [
    "batting_consistency = batting_stats.groupby('batter').agg(\n",
    "    batting_strike_rate_std=('strike_rate', 'std'),\n",
    "    batting_average_std=('average', 'std'),\n",
    "    batting_seasons_played=('season', 'count')\n",
    ").reset_index()\n",
    "\n",
    "bowling_consistency = bowling_stats.groupby('bowler').agg(\n",
    "    bowling_economy_rate_std=('economy_rate', 'std'),\n",
    "    bowling_average_std=('bowling_average', 'std'),\n",
    "    bowling_seasons_played=('season', 'count')\n",
    ").reset_index()\n",
    "\n",
    "min_seasons = 10\n",
    "consistent_batters = batting_consistency[batting_consistency['batting_seasons_played'] >= min_seasons]\n",
    "consistent_bowlers = bowling_consistency[bowling_consistency['bowling_seasons_played'] >= min_seasons]\n",
    "\n",
    "player_consistency = pd.merge(\n",
    "    consistent_batters,\n",
    "    consistent_bowlers,\n",
    "    left_on='batter',\n",
    "    right_on='bowler',\n",
    "    how='outer'\n",
    ")\n",
    "\n",
    "player_consistency = player_consistency.drop('bowler', axis=1)\n",
    "player_consistency['batting_seasons_played'] = player_consistency['batting_seasons_played'].fillna(0).astype(int)\n",
    "player_consistency['bowling_seasons_played'] = player_consistency['bowling_seasons_played'].fillna(0).astype(int)\n",
    "\n",
    "player_consistency = player_consistency.rename(columns={'batter': 'player'})\n",
    "player_consistency['batting_consistency_rank_strike_rate'] = player_consistency['batting_strike_rate_std'].rank(method='min')\n",
    "player_consistency['batting_consistency_rank_average'] = player_consistency['batting_average_std'].rank(method='min')\n",
    "\n",
    "player_consistency['bowling_consistency_rank_economy_rate'] = player_consistency['bowling_economy_rate_std'].rank(method='min')\n",
    "player_consistency['bowling_consistency_rank_bowling_average'] = player_consistency['bowling_average_std'].rank(method='min')\n",
    "\n",
    "print(\"Top 10 Most Consistent Batters (by Strike Rate Std Dev):\")\n",
    "display(player_consistency.sort_values('batting_strike_rate_std').head(10)[['player', 'batting_strike_rate_std', 'batting_seasons_played']])\n",
    "\n",
    "print(\"\\nTop 10 Most Consistent Batters (by Average Std Dev):\")\n",
    "display(player_consistency.sort_values('batting_average_std').head(10)[['player', 'batting_average_std', 'batting_seasons_played']])\n",
    "\n",
    "print(\"\\nTop 10 Most Consistent Bowlers (by Economy Rate Std Dev):\")\n",
    "display(player_consistency.sort_values('bowling_economy_rate_std').head(10)[['player', 'bowling_economy_rate_std', 'bowling_seasons_played']])\n",
    "\n",
    "print(\"\\nTop 10 Most Consistent Bowlers (by Bowling Average Std Dev):\")\n",
    "display(player_consistency.sort_values('bowling_average_std').head(10)[['player', 'bowling_average_std', 'bowling_seasons_played']])"
   ]
  },
  {
   "cell_type": "markdown",
   "metadata": {
    "id": "8fa07951"
   },
   "source": [
    "## Visualize results\n",
    "\n",
    "### Subtask:\n",
    "Visualize the results to present the most consistent players based on key metrics.\n"
   ]
  },
  {
   "cell_type": "markdown",
   "metadata": {
    "id": "a7248b1f"
   },
   "source": [
    "**Reasoning**:\n",
    "Visualize the top 10 most consistent batters by strike rate standard deviation and top 10 most consistent bowlers by economy rate standard deviation using bar plots as requested.\n",
    "\n"
   ]
  },
  {
   "cell_type": "code",
   "execution_count": 41,
   "metadata": {
    "colab": {
     "base_uri": "https://localhost:8080/",
     "height": 1000
    },
    "executionInfo": {
     "elapsed": 582,
     "status": "ok",
     "timestamp": 1751890655448,
     "user": {
      "displayName": "Venu Gopal Reddy",
      "userId": "15021246577011012975"
     },
     "user_tz": -330
    },
    "id": "e1322a77",
    "outputId": "361f40f6-9d03-472b-f0d8-77f337997edd"
   },
   "outputs": [
    {
     "name": "stderr",
     "output_type": "stream",
     "text": [
      "C:\\Users\\pvgre\\AppData\\Local\\Temp\\ipykernel_12412\\3678388203.py:8: FutureWarning: \n",
      "\n",
      "Passing `palette` without assigning `hue` is deprecated and will be removed in v0.14.0. Assign the `x` variable to `hue` and set `legend=False` for the same effect.\n",
      "\n",
      "  sns.barplot(x='player', y='batting_strike_rate_std', data=top_10_consistent_batters_sr, palette='viridis')\n"
     ]
    },
    {
     "data": {
      "image/png": "[encoded data removed]",
      "text/plain": [
       "<Figure size 1200x600 with 1 Axes>"
      ]
     },
     "metadata": {},
     "output_type": "display_data"
    },
    {
     "name": "stderr",
     "output_type": "stream",
     "text": [
      "C:\\Users\\pvgre\\AppData\\Local\\Temp\\ipykernel_12412\\3678388203.py:20: FutureWarning: \n",
      "\n",
      "Passing `palette` without assigning `hue` is deprecated and will be removed in v0.14.0. Assign the `x` variable to `hue` and set `legend=False` for the same effect.\n",
      "\n",
      "  sns.barplot(x='player', y='bowling_economy_rate_std', data=top_10_consistent_bowlers_er, palette='mako')\n"
     ]
    },
    {
     "data": {
      "image/png": "[encoded data removed]",
      "text/plain": [
       "<Figure size 1200x600 with 1 Axes>"
      ]
     },
     "metadata": {},
     "output_type": "display_data"
    }
   ],
   "source": [
    "import matplotlib.pyplot as plt\n",
    "import seaborn as sns\n",
    "\n",
    "sns.set_style(\"whitegrid\")\n",
    "top_10_consistent_batters_sr = player_consistency.sort_values('batting_strike_rate_std').head(10)\n",
    "\n",
    "plt.figure(figsize=(12, 6))\n",
    "sns.barplot(x='player', y='batting_strike_rate_std', data=top_10_consistent_batters_sr, palette='viridis')\n",
    "plt.title('Top 10 Most Consistent Batters (by Strike Rate Std Dev)')\n",
    "plt.xlabel('Player')\n",
    "plt.ylabel('Batting Strike Rate Standard Deviation')\n",
    "plt.xticks(rotation=45, ha='right')\n",
    "plt.tight_layout()\n",
    "plt.show()\n",
    "\n",
    "\n",
    "top_10_consistent_bowlers_er = player_consistency.sort_values('bowling_economy_rate_std').head(13)\n",
    "\n",
    "plt.figure(figsize=(12, 6))\n",
    "sns.barplot(x='player', y='bowling_economy_rate_std', data=top_10_consistent_bowlers_er, palette='mako')\n",
    "plt.title('Top 10 Most Consistent Bowlers (by Economy Rate Std Dev)')\n",
    "plt.xlabel('Player')\n",
    "plt.ylabel('Bowling Economy Rate Standard Deviation')\n",
    "plt.xticks(rotation=45, ha='right')\n",
    "plt.tight_layout()\n",
    "plt.show()"
   ]
  },
  {
   "cell_type": "markdown",
   "metadata": {
    "id": "8fdd0494"
   },
   "source": [
    "## Summary:\n",
    "\n",
    "### Data Analysis Key Findings\n",
    "\n",
    "* The dataset contained mixed data types in columns like 'season' and 'event\\_match\\_no', which were successfully converted to appropriate formats (string and numeric, respectively).\n",
    "* Inconsistencies were found in team names ('Delhi Daredevils' vs. 'Delhi Capitals', 'Rising Pune Supergiants' vs. 'Rising Pune Supergiant') and were standardized.\n",
    "* Columns with a high percentage of missing values (over 50%) and deemed irrelevant to the core analysis were dropped, while missing values in relevant columns were imputed using the median for numerical data and the mode for categorical data.\n",
    "* New features 'year' and 'match\\_type\\_category' were created to facilitate analysis by time and match format.\n",
    "* Batting statistics (total runs, total balls, strike rate, average) and bowling statistics (total runs conceded, total balls bowled, total wickets, economy rate, bowling average) were successfully computed for each player per season.\n",
    "* Player consistency was measured by the standard deviation of their seasonal statistics (strike rate, batting average, economy rate, bowling average).\n",
    "* Players who played in at least 3 seasons were identified as consistent performers based on the standard deviation of their performance metrics.\n",
    "* The top 10 most consistent batters (by strike rate and average standard deviation) and bowlers (by economy rate and bowling average standard deviation) were identified and visualized.\n",
    "* V Kohli has the most runs among all players.\n",
    "* S Dhawan hit the most 4s among all players.\n",
    "* CH Gayle hit the most 6s among all players.\n",
    "* DJ Bravo took the most wickets among all players.\n",
    "\n",
    "### Insights or Next Steps\n",
    "\n",
    "* Further analysis could explore the correlation between consistency (low standard deviation) and overall performance (high average/strike rate, low economy rate/bowling average) to identify players who are both consistent and high-performing.\n",
    "* Investigate the playing conditions or team dynamics across seasons for the identified consistent players to understand factors contributing to their stability in performance."
   ]
  }
 ],
 "metadata": {
  "colab": {
   "authorship_tag": "ABX9TyMBpdb2XCHXwIeY4RtUoUyJ",
   "provenance": []
  },
  "kernelspec": {
   "display_name": "Python 3 (ipykernel)",
   "language": "python",
   "name": "python3"
  },
  "language_info": {
   "codemirror_mode": {
    "name": "ipython",
    "version": 3
   },
   "file_extension": ".py",
   "mimetype": "text/x-python",
   "name": "python",
   "nbconvert_exporter": "python",
   "pygments_lexer": "ipython3",
   "version": "3.11.9"
  }
 },
 "nbformat": 4,
 "nbformat_minor": 4
}
